{
 "cells": [
  {
   "cell_type": "markdown",
   "metadata": {
    "slideshow": {
     "slide_type": "slide"
    }
   },
   "source": [
    "# 01 Pengenalan Machine Learning"
   ]
  },
  {
   "cell_type": "markdown",
   "metadata": {
    "slideshow": {
     "slide_type": "slide"
    }
   },
   "source": [
    "## Apa itu Machine Learning (ML)?\n",
    "- \"Machine Learning is a study that gives computers the ability to learn without being explicitly programmed\" - Arthur Samuel\n",
    "-  \"Machine Learning is a program can be said to learn from experience $E$ with respect to some class of tasks $T$ and performance measure $P$, if its performance at tasks in $T$, as measured by $P$, improves with experience $E$.\" - Tom Mitchell \n",
    "- Machine Learning adalah bidang ilmu yang memampukan suatu program komputer untuk belajar dari sekumpulan data."
   ]
  },
  {
   "cell_type": "markdown",
   "metadata": {
    "slideshow": {
     "slide_type": "slide"
    }
   },
   "source": [
    "## Learning Problem\n",
    "\n",
    "- Learning problem dalam konteks Machine Learning (ML) melibatkan suatu dataset (terdiri dari sejumlah $n$ sample data) untuk melakukan prediksi terhadap properties yang tidak diketahui pada dataset lain yang sejenis. \n",
    "- Secara umum learning problem dapat dibagi menjadi dua, yaitu **supervised learning** dan **unsupervised learning**.\n",
    "- Pada supervised learning problem, program memprediksi suatu nilai output untuk suatu input berdasarkan proses learning yang memanfaatkan  sekumpulan data yang terbagi dalam dua label, yaitu input dan output. Di sini program melakukan learning dari sekumpulan contoh kasus (examples) yang menyertakan \"jawaban benar\".\n",
    "- Pada unsupervised learning problem, program tidak melakukan learning dari labeled data; melainkan mencoba menemukan pola (patterns) pada data."
   ]
  },
  {
   "cell_type": "code",
   "execution_count": null,
   "metadata": {},
   "outputs": [],
   "source": []
  }
 ],
 "metadata": {
  "celltoolbar": "Slideshow",
  "kernelspec": {
   "display_name": "Python 3",
   "language": "python",
   "name": "python3"
  },
  "language_info": {
   "codemirror_mode": {
    "name": "ipython",
    "version": 3
   },
   "file_extension": ".py",
   "mimetype": "text/x-python",
   "name": "python",
   "nbconvert_exporter": "python",
   "pygments_lexer": "ipython3",
   "version": "3.8.5"
  },
  "toc": {
   "base_numbering": 1,
   "nav_menu": {},
   "number_sections": true,
   "sideBar": true,
   "skip_h1_title": false,
   "title_cell": "Table of Contents",
   "title_sidebar": "Contents",
   "toc_cell": false,
   "toc_position": {},
   "toc_section_display": true,
   "toc_window_display": false
  }
 },
 "nbformat": 4,
 "nbformat_minor": 4
}

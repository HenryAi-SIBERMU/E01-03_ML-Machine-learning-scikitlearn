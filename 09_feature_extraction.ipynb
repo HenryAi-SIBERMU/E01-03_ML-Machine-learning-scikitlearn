{
 "cells": [
  {
   "cell_type": "markdown",
   "metadata": {
    "slideshow": {
     "slide_type": "slide"
    }
   },
   "source": [
    "# 09 Feature Extraction\n",
    "\n",
    "Feature extraction starts from an initial set of measured data and builds derived values (features) intended to be informative and non-redundant, facilitating the subsequent learning and generalization steps, and in some cases leading to better human interpretations.\n",
    "\n",
    "Referensi: [https://en.wikipedia.org/wiki/Feature_extraction](https://en.wikipedia.org/wiki/Feature_extraction)"
   ]
  },
  {
   "cell_type": "markdown",
   "metadata": {
    "slideshow": {
     "slide_type": "slide"
    }
   },
   "source": [
    "## One Hot Encoding pada Categorical / Nominal Variables\n",
    "\n",
    "One Hot Encoding merepresentasikan setiap nilai dari suatu feature (explanatory variable) sebagai nilai biner (binary).\n",
    "\n",
    "### Dataset"
   ]
  },
  {
   "cell_type": "code",
   "execution_count": 1,
   "metadata": {},
   "outputs": [],
   "source": [
    "X = [\n",
    "    {'kota': 'Jakarta'},\n",
    "    {'kota': 'Bandung'},\n",
    "    {'kota': 'Surabaya'},\n",
    "]"
   ]
  },
  {
   "cell_type": "markdown",
   "metadata": {},
   "source": [
    "### One Hot Encoding dengan `DictVectorizer`\n",
    "\n",
    "One Hot Encoding dapat diterapkan dengan memanfatkan `DictVectorizer`."
   ]
  },
  {
   "cell_type": "code",
   "execution_count": 2,
   "metadata": {},
   "outputs": [],
   "source": [
    "from sklearn.feature_extraction import DictVectorizer\n",
    "onehot_encoder = DictVectorizer()"
   ]
  },
  {
   "cell_type": "code",
   "execution_count": 3,
   "metadata": {},
   "outputs": [
    {
     "data": {
      "text/plain": [
       "array([[0., 1., 0.],\n",
       "       [1., 0., 0.],\n",
       "       [0., 0., 1.]])"
      ]
     },
     "execution_count": 3,
     "metadata": {},
     "output_type": "execute_result"
    }
   ],
   "source": [
    "encoded_X = onehot_encoder.fit_transform(X).toarray()\n",
    "encoded_X"
   ]
  },
  {
   "cell_type": "code",
   "execution_count": 4,
   "metadata": {},
   "outputs": [
    {
     "name": "stdout",
     "output_type": "stream",
     "text": [
      "Jakarta -> [0. 1. 0.]\n",
      "Bandung -> [1. 0. 0.]\n",
      "Surabaya -> [0. 0. 1.]\n"
     ]
    }
   ],
   "source": [
    "for x, encoded in zip(X, encoded_X):\n",
    "    print(f'{x[\"kota\"]} -> {encoded}')"
   ]
  },
  {
   "cell_type": "markdown",
   "metadata": {
    "slideshow": {
     "slide_type": "slide"
    }
   },
   "source": [
    "## Standarisasi Features\n",
    "\n",
    "### Dataset"
   ]
  },
  {
   "cell_type": "code",
   "execution_count": 5,
   "metadata": {},
   "outputs": [
    {
     "data": {
      "text/plain": [
       "array([[ 1.,  1.,  6., 14., 10.,  2.],\n",
       "       [ 1.,  1., 14., 16., 11., 16.],\n",
       "       [ 1.,  4., 16.,  3.,  1., 12.]])"
      ]
     },
     "execution_count": 5,
     "metadata": {},
     "output_type": "execute_result"
    }
   ],
   "source": [
    "import numpy as np\n",
    "\n",
    "X = np.array([[1., 1., 6., 14., 10.0, 2.], \n",
    "              [1., 1., 14., 16., 11., 16.],\n",
    "              [1., 4., 16., 3., 1., 12.]])\n",
    "\n",
    "X"
   ]
  },
  {
   "cell_type": "markdown",
   "metadata": {},
   "source": [
    "### Standarisasi dengan `scale`"
   ]
  },
  {
   "cell_type": "code",
   "execution_count": 6,
   "metadata": {},
   "outputs": [
    {
     "data": {
      "text/plain": [
       "array([[ 0.        , -0.70710678, -1.38873015,  0.52489066,  0.59299945,\n",
       "        -1.35873244],\n",
       "       [ 0.        , -0.70710678,  0.46291005,  0.87481777,  0.81537425,\n",
       "         1.01904933],\n",
       "       [ 0.        ,  1.41421356,  0.9258201 , -1.39970842, -1.4083737 ,\n",
       "         0.33968311]])"
      ]
     },
     "execution_count": 6,
     "metadata": {},
     "output_type": "execute_result"
    }
   ],
   "source": [
    "from sklearn import preprocessing\n",
    "\n",
    "preprocessing.scale(X)"
   ]
  },
  {
   "cell_type": "markdown",
   "metadata": {
    "slideshow": {
     "slide_type": "slide"
    }
   },
   "source": [
    "## Bag of Words model sebagai representasi text\n",
    "\n",
    "Referensi: [https://en.wikipedia.org/wiki/Bag-of-words_model](https://en.wikipedia.org/wiki/Bag-of-words_model)\n",
    "\n",
    "### Dataset"
   ]
  },
  {
   "cell_type": "code",
   "execution_count": 7,
   "metadata": {},
   "outputs": [],
   "source": [
    "corpus = [\n",
    "    'La Liga talking points',\n",
    "    'Premier League talking points',\n",
    "    'Talking points from the weekend Serie A matches'\n",
    "]"
   ]
  },
  {
   "cell_type": "markdown",
   "metadata": {},
   "source": [
    "### Bag of Words model dengan `CountVectorizer`\n",
    "\n",
    "Bag of Words model dapat diterapkan dengan memanfatkan `CountVectorizer`."
   ]
  },
  {
   "cell_type": "code",
   "execution_count": 8,
   "metadata": {},
   "outputs": [
    {
     "data": {
      "text/plain": [
       "matrix([[0, 1, 0, 1, 0, 1, 0, 0, 1, 0, 0],\n",
       "        [0, 0, 1, 0, 0, 1, 1, 0, 1, 0, 0],\n",
       "        [1, 0, 0, 0, 1, 1, 0, 1, 1, 1, 1]])"
      ]
     },
     "execution_count": 8,
     "metadata": {},
     "output_type": "execute_result"
    }
   ],
   "source": [
    "from sklearn.feature_extraction.text import CountVectorizer\n",
    "\n",
    "vectorizer = CountVectorizer()\n",
    "vectorized_X = vectorizer.fit_transform(corpus).todense()\n",
    "vectorized_X"
   ]
  },
  {
   "cell_type": "code",
   "execution_count": 9,
   "metadata": {},
   "outputs": [
    {
     "data": {
      "text/plain": [
       "{'la': 1,\n",
       " 'liga': 3,\n",
       " 'talking': 8,\n",
       " 'points': 5,\n",
       " 'premier': 6,\n",
       " 'league': 2,\n",
       " 'from': 0,\n",
       " 'the': 9,\n",
       " 'weekend': 10,\n",
       " 'serie': 7,\n",
       " 'matches': 4}"
      ]
     },
     "execution_count": 9,
     "metadata": {},
     "output_type": "execute_result"
    }
   ],
   "source": [
    "vectorizer.vocabulary_"
   ]
  },
  {
   "cell_type": "code",
   "execution_count": 10,
   "metadata": {},
   "outputs": [
    {
     "data": {
      "text/plain": [
       "{'from': 0,\n",
       " 'la': 1,\n",
       " 'league': 2,\n",
       " 'liga': 3,\n",
       " 'matches': 4,\n",
       " 'points': 5,\n",
       " 'premier': 6,\n",
       " 'serie': 7,\n",
       " 'talking': 8,\n",
       " 'the': 9,\n",
       " 'weekend': 10}"
      ]
     },
     "execution_count": 10,
     "metadata": {},
     "output_type": "execute_result"
    }
   ],
   "source": [
    "dict(sorted(vectorizer.vocabulary_.items(), key=lambda item: item[0]))"
   ]
  },
  {
   "cell_type": "markdown",
   "metadata": {},
   "source": [
    "### Euclidean Distance untuk mengukur kedekatan/jarak antar dokumen (vector)\n"
   ]
  },
  {
   "cell_type": "code",
   "execution_count": 14,
   "metadata": {},
   "outputs": [
    {
     "name": "stdout",
     "output_type": "stream",
     "text": [
      "Jarak dokumen 1 dan 2: [[2.]]\n",
      "Jarak dokumen 1 dan 3: [[2.64575131]]\n",
      "Jarak dokumen 2 dan 3: [[2.64575131]]\n"
     ]
    }
   ],
   "source": [
    "from sklearn.metrics.pairwise import euclidean_distances\n",
    "\n",
    "for i in range(len(vectorized_X)):\n",
    "    for j in range(i, len(vectorized_X)):\n",
    "        if i == j:\n",
    "            continue\n",
    "        jarak = euclidean_distances(vectorized_X[i], vectorized_X[j])\n",
    "        print(f'Jarak dokumen {i+1} dan {j+1}: {jarak}')"
   ]
  },
  {
   "cell_type": "code",
   "execution_count": null,
   "metadata": {},
   "outputs": [],
   "source": []
  }
 ],
 "metadata": {
  "celltoolbar": "Slideshow",
  "kernelspec": {
   "display_name": "Python 3",
   "language": "python",
   "name": "python3"
  },
  "language_info": {
   "codemirror_mode": {
    "name": "ipython",
    "version": 3
   },
   "file_extension": ".py",
   "mimetype": "text/x-python",
   "name": "python",
   "nbconvert_exporter": "python",
   "pygments_lexer": "ipython3",
   "version": "3.8.5"
  }
 },
 "nbformat": 4,
 "nbformat_minor": 4
}

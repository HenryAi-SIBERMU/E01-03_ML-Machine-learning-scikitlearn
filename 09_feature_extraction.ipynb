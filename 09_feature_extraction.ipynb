{
 "cells": [
  {
   "cell_type": "markdown",
   "metadata": {
    "slideshow": {
     "slide_type": "slide"
    }
   },
   "source": [
    "# 09 Feature Extraction"
   ]
  },
  {
   "cell_type": "markdown",
   "metadata": {
    "slideshow": {
     "slide_type": "slide"
    }
   },
   "source": [
    "## One Hot Encoding pada Categorical / Nominal Variables\n",
    "\n",
    "One Hot Encoding merepresentasikan setiap nilai dari suatu feature (explanatory variable) sebagai nilai biner (binary).\n",
    "\n",
    "#### Dataset"
   ]
  },
  {
   "cell_type": "code",
   "execution_count": 14,
   "metadata": {},
   "outputs": [],
   "source": [
    "X = [\n",
    "    {'kota': 'Jakarta'},\n",
    "    {'kota': 'Bandung'},\n",
    "    {'kota': 'Surabaya'},\n",
    "]"
   ]
  },
  {
   "cell_type": "markdown",
   "metadata": {},
   "source": [
    "#### One Hot Encoding dengan DictVectorizer\n",
    "\n",
    "One Hot Encoding dapat diterapkan dengan memanfatkan `DictVectorizer`."
   ]
  },
  {
   "cell_type": "code",
   "execution_count": 15,
   "metadata": {},
   "outputs": [],
   "source": [
    "from sklearn.feature_extraction import DictVectorizer\n",
    "onehot_encoder = DictVectorizer()"
   ]
  },
  {
   "cell_type": "code",
   "execution_count": 16,
   "metadata": {},
   "outputs": [
    {
     "data": {
      "text/plain": [
       "array([[0., 1., 0.],\n",
       "       [1., 0., 0.],\n",
       "       [0., 0., 1.]])"
      ]
     },
     "execution_count": 16,
     "metadata": {},
     "output_type": "execute_result"
    }
   ],
   "source": [
    "encoded_X = onehot_encoder.fit_transform(X).toarray()\n",
    "encoded_X"
   ]
  },
  {
   "cell_type": "code",
   "execution_count": 18,
   "metadata": {},
   "outputs": [
    {
     "name": "stdout",
     "output_type": "stream",
     "text": [
      "Jakarta -> [0. 1. 0.]\n",
      "Bandung -> [1. 0. 0.]\n",
      "Surabaya -> [0. 0. 1.]\n"
     ]
    }
   ],
   "source": [
    "for x, encoded in zip(X, encoded_X):\n",
    "    print(f'{x[\"kota\"]} -> {encoded}')"
   ]
  },
  {
   "cell_type": "markdown",
   "metadata": {
    "slideshow": {
     "slide_type": "slide"
    }
   },
   "source": [
    "## Standarisasi Features"
   ]
  },
  {
   "cell_type": "code",
   "execution_count": 22,
   "metadata": {},
   "outputs": [
    {
     "data": {
      "text/plain": [
       "array([[ 1.,  1.,  6., 14., 10.,  2.],\n",
       "       [ 1.,  1., 14., 16., 11., 16.],\n",
       "       [ 1.,  4., 16.,  3.,  1., 12.]])"
      ]
     },
     "execution_count": 22,
     "metadata": {},
     "output_type": "execute_result"
    }
   ],
   "source": [
    "import numpy as np\n",
    "\n",
    "X = np.array([[1., 1., 6., 14., 10.0, 2.], \n",
    "              [1., 1., 14., 16., 11., 16.],\n",
    "              [1., 4., 16., 3., 1., 12.]])\n",
    "\n",
    "X"
   ]
  },
  {
   "cell_type": "code",
   "execution_count": 23,
   "metadata": {},
   "outputs": [
    {
     "data": {
      "text/plain": [
       "array([[ 0.        , -0.70710678, -1.38873015,  0.52489066,  0.59299945,\n",
       "        -1.35873244],\n",
       "       [ 0.        , -0.70710678,  0.46291005,  0.87481777,  0.81537425,\n",
       "         1.01904933],\n",
       "       [ 0.        ,  1.41421356,  0.9258201 , -1.39970842, -1.4083737 ,\n",
       "         0.33968311]])"
      ]
     },
     "execution_count": 23,
     "metadata": {},
     "output_type": "execute_result"
    }
   ],
   "source": [
    "from sklearn import preprocessing\n",
    "\n",
    "preprocessing.scale(X)"
   ]
  },
  {
   "cell_type": "markdown",
   "metadata": {
    "slideshow": {
     "slide_type": "slide"
    }
   },
   "source": [
    "## Bag of Words sebagai representasi text"
   ]
  },
  {
   "cell_type": "code",
   "execution_count": 25,
   "metadata": {},
   "outputs": [],
   "source": [
    "corpus = [\n",
    "    'La Liga talking points',\n",
    "    'Premier League talking points',\n",
    "    'Talking points from the weekend Serie A matches'\n",
    "]"
   ]
  }
 ],
 "metadata": {
  "celltoolbar": "Slideshow",
  "kernelspec": {
   "display_name": "Python 3",
   "language": "python",
   "name": "python3"
  },
  "language_info": {
   "codemirror_mode": {
    "name": "ipython",
    "version": 3
   },
   "file_extension": ".py",
   "mimetype": "text/x-python",
   "name": "python",
   "nbconvert_exporter": "python",
   "pygments_lexer": "ipython3",
   "version": "3.8.5"
  }
 },
 "nbformat": 4,
 "nbformat_minor": 4
}

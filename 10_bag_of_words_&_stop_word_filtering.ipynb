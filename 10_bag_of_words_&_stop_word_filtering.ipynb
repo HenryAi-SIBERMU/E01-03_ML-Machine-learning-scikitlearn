{
 "cells": [
  {
   "cell_type": "markdown",
   "metadata": {
    "slideshow": {
     "slide_type": "slide"
    }
   },
   "source": [
    "# 10 Mengenal Text Processing: <br/>Bag of Words & Stop Word Filtering"
   ]
  },
  {
   "cell_type": "markdown",
   "metadata": {
    "slideshow": {
     "slide_type": "slide"
    }
   },
   "source": [
    "## Bag of Words model sebagai representasi text\n",
    "\n",
    "Bag of Words menyederhanakan representasi text sebagai sekumpulan kata serta mengabaikan grammar dan posisi tiap kata pada kalimat. Text akan dikonversi menjadi lowercase dan tanda baca akan diabaikan.\n",
    "\n",
    "Referensi: [https://en.wikipedia.org/wiki/Bag-of-words_model](https://en.wikipedia.org/wiki/Bag-of-words_model)\n",
    "\n",
    "### Dataset"
   ]
  },
  {
   "cell_type": "code",
   "execution_count": 1,
   "metadata": {},
   "outputs": [],
   "source": [
    "corpus = [\n",
    "    'Linux has been around since the mid-1990s and has since reached a user-base that spans the globe.',\n",
    "    'Distributions include the Linux kernel and supporting system software and libraries.',\n",
    "    'Linux is one of the most prominent examples of free and open-source software collaboration.'\n",
    "]"
   ]
  },
  {
   "cell_type": "markdown",
   "metadata": {},
   "source": [
    "### Bag of Words model dengan `CountVectorizer`\n",
    "\n",
    "Bag of Words model dapat diterapkan dengan memanfatkan `CountVectorizer`."
   ]
  },
  {
   "cell_type": "code",
   "execution_count": 2,
   "metadata": {},
   "outputs": [
    {
     "data": {
      "text/plain": [
       "matrix([[1, 1, 1, 1, 1, 0, 0, 0, 0, 1, 2, 0, 0, 0, 0, 1, 1, 0, 0, 0, 0,\n",
       "         0, 1, 2, 0, 0, 1, 0, 0, 1, 2, 1],\n",
       "        [0, 2, 0, 0, 0, 0, 1, 0, 0, 0, 0, 1, 0, 1, 1, 1, 0, 0, 0, 0, 0,\n",
       "         0, 0, 0, 1, 0, 0, 1, 1, 0, 1, 0],\n",
       "        [0, 1, 0, 0, 0, 1, 0, 1, 1, 0, 0, 0, 1, 0, 0, 1, 0, 1, 2, 1, 1,\n",
       "         1, 0, 0, 1, 1, 0, 0, 0, 0, 1, 0]])"
      ]
     },
     "execution_count": 2,
     "metadata": {},
     "output_type": "execute_result"
    }
   ],
   "source": [
    "from sklearn.feature_extraction.text import CountVectorizer\n",
    "\n",
    "vectorizer = CountVectorizer()\n",
    "vectorized_X = vectorizer.fit_transform(corpus).todense()\n",
    "vectorized_X"
   ]
  },
  {
   "cell_type": "code",
   "execution_count": 3,
   "metadata": {},
   "outputs": [
    {
     "data": {
      "text/plain": [
       "{'linux': 15,\n",
       " 'has': 10,\n",
       " 'been': 4,\n",
       " 'around': 2,\n",
       " 'since': 23,\n",
       " 'the': 30,\n",
       " 'mid': 16,\n",
       " '1990s': 0,\n",
       " 'and': 1,\n",
       " 'reached': 22,\n",
       " 'user': 31,\n",
       " 'base': 3,\n",
       " 'that': 29,\n",
       " 'spans': 26,\n",
       " 'globe': 9,\n",
       " 'distributions': 6,\n",
       " 'include': 11,\n",
       " 'kernel': 13,\n",
       " 'supporting': 27,\n",
       " 'system': 28,\n",
       " 'software': 24,\n",
       " 'libraries': 14,\n",
       " 'is': 12,\n",
       " 'one': 19,\n",
       " 'of': 18,\n",
       " 'most': 17,\n",
       " 'prominent': 21,\n",
       " 'examples': 7,\n",
       " 'free': 8,\n",
       " 'open': 20,\n",
       " 'source': 25,\n",
       " 'collaboration': 5}"
      ]
     },
     "execution_count": 3,
     "metadata": {},
     "output_type": "execute_result"
    }
   ],
   "source": [
    "vectorizer.vocabulary_"
   ]
  },
  {
   "cell_type": "code",
   "execution_count": 4,
   "metadata": {},
   "outputs": [
    {
     "data": {
      "text/plain": [
       "{'1990s': 0,\n",
       " 'and': 1,\n",
       " 'around': 2,\n",
       " 'base': 3,\n",
       " 'been': 4,\n",
       " 'collaboration': 5,\n",
       " 'distributions': 6,\n",
       " 'examples': 7,\n",
       " 'free': 8,\n",
       " 'globe': 9,\n",
       " 'has': 10,\n",
       " 'include': 11,\n",
       " 'is': 12,\n",
       " 'kernel': 13,\n",
       " 'libraries': 14,\n",
       " 'linux': 15,\n",
       " 'mid': 16,\n",
       " 'most': 17,\n",
       " 'of': 18,\n",
       " 'one': 19,\n",
       " 'open': 20,\n",
       " 'prominent': 21,\n",
       " 'reached': 22,\n",
       " 'since': 23,\n",
       " 'software': 24,\n",
       " 'source': 25,\n",
       " 'spans': 26,\n",
       " 'supporting': 27,\n",
       " 'system': 28,\n",
       " 'that': 29,\n",
       " 'the': 30,\n",
       " 'user': 31}"
      ]
     },
     "execution_count": 4,
     "metadata": {},
     "output_type": "execute_result"
    }
   ],
   "source": [
    "dict(sorted(vectorizer.vocabulary_.items(), key=lambda item: item[0]))"
   ]
  },
  {
   "cell_type": "markdown",
   "metadata": {},
   "source": [
    "### Euclidean Distance untuk mengukur kedekatan/jarak antar dokumen (vector)\n"
   ]
  },
  {
   "cell_type": "code",
   "execution_count": 5,
   "metadata": {},
   "outputs": [
    {
     "name": "stdout",
     "output_type": "stream",
     "text": [
      "Jarak dokumen 1 dan 2: [[5.19615242]]\n",
      "Jarak dokumen 1 dan 3: [[5.74456265]]\n",
      "Jarak dokumen 2 dan 3: [[4.47213595]]\n"
     ]
    }
   ],
   "source": [
    "from sklearn.metrics.pairwise import euclidean_distances\n",
    "\n",
    "for i in range(len(vectorized_X)):\n",
    "    for j in range(i, len(vectorized_X)):\n",
    "        if i == j:\n",
    "            continue\n",
    "        jarak = euclidean_distances(vectorized_X[i], vectorized_X[j])\n",
    "        print(f'Jarak dokumen {i+1} dan {j+1}: {jarak}')"
   ]
  },
  {
   "cell_type": "markdown",
   "metadata": {
    "slideshow": {
     "slide_type": "slide"
    }
   },
   "source": [
    "## Stop Word Filtering pada text\n",
    "\n",
    "Stop Word Filtering menyederhanakan representasi text dengan mengabaikan beberapa kata seperti determiners (the, a, an),  auxiliary verbs (do, be, will), dan prepositions (on, in, at).\n",
    "\n",
    "Referensi: [https://en.wikipedia.org/wiki/Stop_word](https://en.wikipedia.org/wiki/Stop_word)\n",
    "\n",
    "### Dataset"
   ]
  },
  {
   "cell_type": "code",
   "execution_count": 6,
   "metadata": {},
   "outputs": [
    {
     "data": {
      "text/plain": [
       "['Linux has been around since the mid-1990s and has since reached a user-base that spans the globe.',\n",
       " 'Distributions include the Linux kernel and supporting system software and libraries.',\n",
       " 'Linux is one of the most prominent examples of free and open-source software collaboration.']"
      ]
     },
     "execution_count": 6,
     "metadata": {},
     "output_type": "execute_result"
    }
   ],
   "source": [
    "corpus"
   ]
  },
  {
   "cell_type": "markdown",
   "metadata": {},
   "source": [
    "### Stop Word Filtering dengan `CountVectorizer`\n",
    "\n",
    "Stop Word Filtering juga dapat diterapkan dengan memanfatkan `CountVectorizer`."
   ]
  },
  {
   "cell_type": "code",
   "execution_count": 7,
   "metadata": {},
   "outputs": [
    {
     "data": {
      "text/plain": [
       "matrix([[1, 1, 0, 0, 0, 0, 1, 0, 0, 0, 1, 1, 0, 0, 1, 0, 0, 1, 0, 1],\n",
       "        [0, 0, 0, 1, 0, 0, 0, 1, 1, 1, 1, 0, 0, 0, 0, 1, 0, 0, 1, 0],\n",
       "        [0, 0, 1, 0, 1, 1, 0, 0, 0, 0, 1, 0, 1, 1, 0, 1, 1, 0, 0, 0]])"
      ]
     },
     "execution_count": 7,
     "metadata": {},
     "output_type": "execute_result"
    }
   ],
   "source": [
    "from sklearn.feature_extraction.text import CountVectorizer\n",
    "\n",
    "vectorizer = CountVectorizer(stop_words='english')\n",
    "vectorized_X = vectorizer.fit_transform(corpus).todense()\n",
    "vectorized_X"
   ]
  },
  {
   "cell_type": "code",
   "execution_count": 8,
   "metadata": {},
   "outputs": [
    {
     "data": {
      "text/plain": [
       "{'linux': 10,\n",
       " 'mid': 11,\n",
       " '1990s': 0,\n",
       " 'reached': 14,\n",
       " 'user': 19,\n",
       " 'base': 1,\n",
       " 'spans': 17,\n",
       " 'globe': 6,\n",
       " 'distributions': 3,\n",
       " 'include': 7,\n",
       " 'kernel': 8,\n",
       " 'supporting': 18,\n",
       " 'software': 15,\n",
       " 'libraries': 9,\n",
       " 'prominent': 13,\n",
       " 'examples': 4,\n",
       " 'free': 5,\n",
       " 'open': 12,\n",
       " 'source': 16,\n",
       " 'collaboration': 2}"
      ]
     },
     "execution_count": 8,
     "metadata": {},
     "output_type": "execute_result"
    }
   ],
   "source": [
    "vectorizer.vocabulary_"
   ]
  }
 ],
 "metadata": {
  "celltoolbar": "Slideshow",
  "kernelspec": {
   "display_name": "Python 3",
   "language": "python",
   "name": "python3"
  },
  "language_info": {
   "codemirror_mode": {
    "name": "ipython",
    "version": 3
   },
   "file_extension": ".py",
   "mimetype": "text/x-python",
   "name": "python",
   "nbconvert_exporter": "python",
   "pygments_lexer": "ipython3",
   "version": "3.8.5"
  }
 },
 "nbformat": 4,
 "nbformat_minor": 4
}
